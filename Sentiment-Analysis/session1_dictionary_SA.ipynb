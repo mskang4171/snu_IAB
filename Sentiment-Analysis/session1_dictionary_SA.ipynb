{
  "nbformat": 4,
  "nbformat_minor": 0,
  "metadata": {
    "anaconda-cloud": {},
    "kernelspec": {
      "display_name": "Python [default]",
      "language": "python",
      "name": "python3"
    },
    "language_info": {
      "codemirror_mode": {
        "name": "ipython",
        "version": 3
      },
      "file_extension": ".py",
      "mimetype": "text/x-python",
      "name": "python",
      "nbconvert_exporter": "python",
      "pygments_lexer": "ipython3",
      "version": "3.7.0"
    },
    "colab": {
      "name": "2020_2학기_assignment_session1_dictionary_SA.ipynb",
      "provenance": [],
      "collapsed_sections": []
    }
  },
  "cells": [
    {
      "cell_type": "markdown",
      "metadata": {
        "deletable": true,
        "editable": true,
        "id": "HDAQu-S0lt8X"
      },
      "source": [
        "# Session #1 \n",
        "## Dictionary-based SA using SentiStrength dictionary\n",
        "\n",
        "첫 번째 세션에서는 SentiStrength에 탑재된 사전을 활용하여 간단한 사전 기반 (dictionary-based) 영어 텍스트 감성분석 프로그램을 작성해 봅니다.  \n",
        "실습 수업은 프로그램의 주요 흐름을 설명하면서, TODO 처리된 핵심적인 부분의 코드를 직접 작성해보는 순서로 진행될 것입니다.  "
      ]
    },
    {
      "cell_type": "markdown",
      "metadata": {
        "deletable": true,
        "editable": true,
        "id": "N0EtvTO_lt8Y"
      },
      "source": [
        "사전 데이터와 테스트에 사용할 텍스트 파일이 있는 폴더를 지정합니다.  \n",
        "여기서는 사전 데이터가 'SentiStrength_Data' 폴더에, 텍스트 파일이 '6humanCodedDataSets' 폴더에 있는 것을 전제로 하였습니다.  \n",
        "만일 사전 데이터와 텍스트 파일이 다른 폴더에 있을 경우 이를 변경하셔야 합니다.  \n",
        "(코드 .ipynb 파일과 같은 폴더에 있을 시에는 './'로 설정하여 주십시오)"
      ]
    },
    {
      "cell_type": "markdown",
      "metadata": {
        "id": "Z0XkLPrWtQ2l"
      },
      "source": [
        "### **구글 드라이브를 이용하여 데이터 import 및 압축풀기**\n",
        "a) 내 구글 드라이브 mount 하기\n"
      ]
    },
    {
      "cell_type": "code",
      "metadata": {
        "id": "LwmskzcYtP0S",
        "outputId": "96912491-b0e2-4343-e7dc-0c5a5146521d",
        "colab": {
          "base_uri": "https://localhost:8080/"
        }
      },
      "source": [
        "\"\"\" \n",
        "내 구글 드라이브와 colab 연결 ==> \n",
        "아래 셀 실행 후 출력되는 링크 클릭 ==> \n",
        "authorization code 복사 후 아래 출력된 박스에 붙여넣고 enter 키 입력\n",
        "\"\"\"\n",
        "from google.colab import drive\n",
        "drive.mount('/content/drive')"
      ],
      "execution_count": 1,
      "outputs": [
        {
          "output_type": "stream",
          "text": [
            "Mounted at /content/drive\n"
          ],
          "name": "stdout"
        }
      ]
    },
    {
      "cell_type": "code",
      "metadata": {
        "id": "BwmVRqYOtcB5",
        "outputId": "e3cb1fa6-c486-4589-b4e8-064213c849da",
        "colab": {
          "base_uri": "https://localhost:8080/"
        }
      },
      "source": [
        "\"\"\"\n",
        "내 구글 드라이브와 잘 연동 되었는지 확인해보기\n",
        "실습 파일들을 내 구글 드라이브 (My Drive) 내에 다른 폴더를 만들었다면 ==> \n",
        "os.listdir('/content/drive/My Drive/내가_만든_폴더_이름')\n",
        "\"\"\"\n",
        "import os\n",
        "os.listdir('/content/drive/My Drive/Colab Notebooks/20.10.30')"
      ],
      "execution_count": 2,
      "outputs": [
        {
          "output_type": "execute_result",
          "data": {
            "text/plain": [
              "['6humanCodedDataSets.zip',\n",
              " 'SentiStrength_Data.zip',\n",
              " 'data.zip',\n",
              " 'session1_dictionary_SA.ipynb',\n",
              " 'session2_NaiveBayes_SA.ipynb',\n",
              " '2020_2학기_assignment_session2_NaiveBayes_SA.ipynb',\n",
              " '2020_2학기_assignment_session1_dictionary_SA.ipynb']"
            ]
          },
          "metadata": {
            "tags": []
          },
          "execution_count": 2
        }
      ]
    },
    {
      "cell_type": "code",
      "metadata": {
        "id": "MgeI5ZLmtqWu"
      },
      "source": [
        "\"\"\"\n",
        "구글 드라이브에 올려놓은 실습 데이터 zip 압축 풀기 ==> \n",
        "zipfile 의 extractall 함수 이용 \n",
        "압축을 풀 경로 (directory_to_extract_to)는 반드시 '/tmp/' 아래 지정할 것 ex) '/tmp/SentiStrength_Data/'\n",
        "\"\"\"\n",
        "import zipfile\n",
        "path_to_zip_file = '/content/drive/My Drive/Colab Notebooks/20.10.30/SentiStrength_Data.zip'\n",
        "directory_to_extract_to = '/tmp/SentiStrength_Data'\n",
        "with zipfile.ZipFile(path_to_zip_file, 'r') as zip_ref:\n",
        "  zip_ref.extractall(directory_to_extract_to)\n",
        "\n",
        "path_to_zip_file = '/content/drive/My Drive/Colab Notebooks/20.10.30/6humanCodedDataSets.zip'\n",
        "directory_to_extract_to = '/tmp/6humanCodedDataSets'\n",
        "with zipfile.ZipFile(path_to_zip_file, 'r') as zip_ref:\n",
        "  zip_ref.extractall(directory_to_extract_to)"
      ],
      "execution_count": 3,
      "outputs": []
    },
    {
      "cell_type": "code",
      "metadata": {
        "id": "N6HAbiOIt3WD",
        "outputId": "cb92f0ba-35b9-4cfe-ee7f-ec7b0ee2297a",
        "colab": {
          "base_uri": "https://localhost:8080/"
        }
      },
      "source": [
        "\"\"\"\n",
        "압축이 잘 해제 되었는지 확인하기\n",
        "\"\"\"\n",
        "print(os.listdir('/tmp/SentiStrength_Data'))\n",
        "print(os.listdir('/tmp/6humanCodedDataSets'))"
      ],
      "execution_count": 4,
      "outputs": [
        {
          "output_type": "stream",
          "text": [
            "['SlangLookupTable.txt', 'IdiomLookupTable.txt', 'BoosterWordList.txt', 'NegatingWordList.txt', 'EmotionLookupTable.txt', 'EnglishWordList.txt', 'EmoticonLookupTable.txt', 'QuestionWords.txt']\n",
            "['digg1084.txt', 'YouTube3407.txt', 'rw1046.txt', '1041MySpace.txt', 'bbc1000.txt', 'twitter4242.txt']\n"
          ],
          "name": "stdout"
        }
      ]
    },
    {
      "cell_type": "code",
      "metadata": {
        "deletable": true,
        "editable": true,
        "id": "xzuFsXzylt8Z"
      },
      "source": [
        "\"\"\"\n",
        "압축을 푼 경로로 데이터 경로 지정\n",
        "\"\"\"\n",
        "dict_dir = '/tmp/SentiStrength_Data/'\n",
        "data_dir = '/tmp/6humanCodedDataSets/'"
      ],
      "execution_count": 5,
      "outputs": []
    },
    {
      "cell_type": "markdown",
      "metadata": {
        "deletable": true,
        "editable": true,
        "id": "0VMatF18lt8d"
      },
      "source": [
        "### Step 1. Tokenizing\n",
        "문장을 먼저 단어 단위로 분할하는 작업을 수행합니다. 영어 텍스트인 만큼 기본적으로 띄어쓰기 단위로 분할을 하되, 문장 부호는 삭제하고, 대문자는 소문자로 치환하도록 합니다.  \n",
        "여기서는 정규 표현식과 re.sub() 함수를 활용하여 문장 부호 (? ! \" . , ;)를 제거하는 부분을 직접 작성해봅시다.  \n",
        "작성 후 함수를 직접 실행하여 의도대로 구현되었는지 확인합니다."
      ]
    },
    {
      "cell_type": "code",
      "metadata": {
        "deletable": true,
        "editable": true,
        "id": "7xObKReDlt8e"
      },
      "source": [
        "'''\n",
        "Parse a given sentence to a list\n",
        "Input: sentence string\n",
        "Output: List of words\n",
        "'''\n",
        "def parse_input(str):\n",
        "    import re   #import regular expressions module\n",
        "    # TODO : remove punctuations using regular expression and re.sub() function\n",
        "    # for example, using str = re.sub(r'[abc]','',str) to remove a character a, b or c from string str.\n",
        "    \n",
        "    str = re.sub(r'[!?\";,.]','',str)\n",
        "    str = str.lower() #make all characters lowercase\n",
        "    words = str.split(' ') #split words in string on space and save them in a list.\n",
        "    \n",
        "    return words"
      ],
      "execution_count": 6,
      "outputs": []
    },
    {
      "cell_type": "code",
      "metadata": {
        "deletable": true,
        "editable": true,
        "id": "3kmAS9TIlt8i",
        "outputId": "5ad28918-d86e-4df9-80ca-dd940f17c2f4",
        "colab": {
          "base_uri": "https://localhost:8080/"
        }
      },
      "source": [
        "parse_input('Why the deafening silence?  It shows the duplicity of \"the allies\".')"
      ],
      "execution_count": 7,
      "outputs": [
        {
          "output_type": "execute_result",
          "data": {
            "text/plain": [
              "['why',\n",
              " 'the',\n",
              " 'deafening',\n",
              " 'silence',\n",
              " '',\n",
              " 'it',\n",
              " 'shows',\n",
              " 'the',\n",
              " 'duplicity',\n",
              " 'of',\n",
              " 'the',\n",
              " 'allies']"
            ]
          },
          "metadata": {
            "tags": []
          },
          "execution_count": 7
        }
      ]
    },
    {
      "cell_type": "markdown",
      "metadata": {
        "deletable": true,
        "editable": true,
        "id": "JgXa1F3llt8m"
      },
      "source": [
        "### Step 2. Parsing dictionaries\n",
        "여기에서는 감성분석에 사용할 각 사전들을 읽어옵니다.\n",
        "사전은 크게 2가지 형태가 사용되는데, 하나는 각 단어마다 고유한 weight가 부여된 사전이며, 나머지 하는 부정어 (negating word)가 저장된 사전인데 부정어의 경우 별도의 weight를 가지지 않으므로 부정어 사전의 모든 weight는 0이 됩니다.\n",
        "그래서 각각에 대해 별도의 사전 생성 함수를 작성할 것입니다. Python의 dictionary 자료형을 이용합니다.\n",
        "\n",
        "1) weight가 저장된 dictionary를 불러오는 함수입니다.  \n",
        "해당 사전들은 매 줄이 \"단어 (탭) weight (탭) 주석\" 형식으로 저장되어 있습니다.  \n",
        "이를 읽어서 저장하는 코드를 작성합니다."
      ]
    },
    {
      "cell_type": "code",
      "metadata": {
        "deletable": true,
        "editable": true,
        "id": "ErfKN1uylt8n"
      },
      "source": [
        "'''\n",
        "Parse boosting weights\n",
        "Input: file name\n",
        "Output: dictionary of weights\n",
        "'''\n",
        "def parse_weight(fname):\n",
        "    w = {}   #dictionary\n",
        "    with open(fname, 'r') as f :\n",
        "        for line in f: #for each line in the file,\n",
        "            # TODO : add a dictionary entry from each line\n",
        "            # You first split the line into a word, a weight and a comment, then add the entry to the dictionary\n",
        "            # Hint : you may use the split() function\n",
        "\n",
        "            rule = line.split('\\t')  #split words in string on tab and save them in a list\n",
        "            w[rule[0]] = int(rule[1]) #the first component of the list becomes 'key', the second one becomes 'value' of the dictionary.\n",
        "            \n",
        "    return w"
      ],
      "execution_count": 8,
      "outputs": []
    },
    {
      "cell_type": "markdown",
      "metadata": {
        "deletable": true,
        "editable": true,
        "id": "5VEPQUjElt8q"
      },
      "source": [
        "2) negating word에 대한 dictionary를 불러오는 함수입니다.  \n",
        "negating word 사전은 매 줄 마다 단어만 저장되어 있습니다.  \n",
        "따라서 weight는 모두 0으로 저장합니다. 이를 감안하여 함수를 작성합니다."
      ]
    },
    {
      "cell_type": "code",
      "metadata": {
        "deletable": true,
        "editable": true,
        "id": "Ajr045g0lt8r"
      },
      "source": [
        "'''\n",
        "Parse negations\n",
        "Input: file name\n",
        "Output: dictionary of weights (all 0)\n",
        "'''\n",
        "def parse_negate(fname):\n",
        "    w = {}   #dictionary\n",
        "    with open(fname, 'r') as f :\n",
        "        for line in f: #for each line in the file\n",
        "            # TODO : add a dictionary entry from each line\n",
        "            # Unlike other dictionaries, the negating word dictionary only has a word in each line\n",
        "            # An weight for each line should be assigned as '0'.\n",
        "\n",
        "            w[line[:-1]] = 0  #each word becomes 'key' and '0' becomes 'value' of the dictionary.(exclude the last component '\\n')\n",
        "            \n",
        "    return w"
      ],
      "execution_count": 9,
      "outputs": []
    },
    {
      "cell_type": "markdown",
      "metadata": {
        "deletable": true,
        "editable": true,
        "id": "YSvVR8XGlt8v"
      },
      "source": [
        "실제 사전 데이터를 통해 구현된 함수를 확인합니다.  \n",
        "실행 결과는 2, 0 으로 나와야 합니다. (각각 extremely와 never에 대한 weight)  \n",
        "필요한 경우 다른 단어에 대해 사전을 확인해 보실 수도 있습니다. (예 : dict_boost['very'])"
      ]
    },
    {
      "cell_type": "code",
      "metadata": {
        "deletable": true,
        "editable": true,
        "id": "HzMXPKBqlt8w",
        "outputId": "048ab91a-b22d-4e3b-92ba-df77fb8c9555",
        "colab": {
          "base_uri": "https://localhost:8080/"
        }
      },
      "source": [
        "dict_boost = parse_weight(dict_dir + 'BoosterWordList.txt')\n",
        "dict_negate = parse_negate(dict_dir + 'NegatingWordList.txt')\n",
        "print('%d, %d'%(dict_boost['extremely'],dict_negate['never']))"
      ],
      "execution_count": 10,
      "outputs": [
        {
          "output_type": "stream",
          "text": [
            "2, 0\n"
          ],
          "name": "stdout"
        }
      ]
    },
    {
      "cell_type": "markdown",
      "metadata": {
        "deletable": true,
        "editable": true,
        "id": "z4WociaSlt80"
      },
      "source": [
        "### Step 3. Weighting\n",
        "구축한 dictionary를 이용해 주어진 문장의 positive/negative strength (weight)를 찾아냅니다.  \n",
        "즉 Parsing한 단어들의 weight를 주어진 모델의 dictionary에서 찾는 과정입니다.  \n",
        "사전에는 'ador*' 와 같이 어두에 대한 정의가 존재하므로 전체 단어가 사전에 없어도 어두를 통해 weight를 부여하는 경우도 고려해야 합니다.  \n",
        "이를 위해 단어가 사전에 존재하지 않는 경우 끝에서부터 1 글자씩 잘라가면서 어두를 찾는 루틴도 구현합니다.  \n",
        "그렇게 해도 사전에 존재하지 않는 단어는 0으로 처리합니다."
      ]
    },
    {
      "cell_type": "code",
      "metadata": {
        "deletable": true,
        "editable": true,
        "id": "RckvxXz5lt81"
      },
      "source": [
        "'''\n",
        "Give weights on words\n",
        "Input: list of words, dictionary of weights\n",
        "Output: list of (word, weight) pairs\n",
        "'''\n",
        "def weight_default(list_words, dic_weights):\n",
        "    l = []  #list\n",
        "    for word in list_words:  #for each word in the given list,\n",
        "        if word in dic_weights:          \n",
        "            l.append((word, dic_weights[word]))  #add word and its weight if the word is in the dictionary\n",
        "        else:       #if the word is not in the dictionary, check if the words\n",
        "            substr = word  #first, we define substr as the word\n",
        "            while substr != '':  #while substr is not NULL,\n",
        "                pat = substr + '*'   #check if substr* is in the dictionary\n",
        "                if pat in dic_weights:   \n",
        "                    l.append((word, dic_weights[pat]))\n",
        "                    break   #break means we stop the loop and move on to the next word.\n",
        "                else:\n",
        "                    # TODO : trim the last character of substr before the loop iterates\n",
        "\n",
        "                    substr = substr[:-1]   #if substr* is not in the dictionary, we exclude the last character of substr and repeat the above procedure.\n",
        "                    \n",
        "            else: # no matching word found in the dictionary\n",
        "                l.append((word, 0))  #if a matching word is not exist on the dictionary, set its weight as '0'\n",
        "    return l"
      ],
      "execution_count": 11,
      "outputs": []
    },
    {
      "cell_type": "markdown",
      "metadata": {
        "deletable": true,
        "editable": true,
        "id": "GQHd_3DBlt84"
      },
      "source": [
        "### Step 4. Evaluation\n",
        "본 실습에서는 문장이 부정적/긍정적 감성인지 판단할 때 문장의 각 단어가 가지는 positive strength의 최대값과 negative strength의 최소값을 비교하여, 절대값의 대소에 따라서 positive / neutral / negative를 평가합니다.  \n",
        "가령 positive의 최대값이 4이고, negative의 최소값이 -3이면 그 문장을 positive sentiment를 가졌다고 평가합니다.  \n",
        "반면 positive의 최대값이 3이고 negative의 최소값이 -4이면 negative, 두 절대값이 서로 같으면 neutral로 평가해야 합니다.  \n",
        "아래 extract_max() 함수를 작성하여 (word, weight)의 list가 들어왔을 때 (positive의 최대값, negative의 최소값)을 반환하도록 합니다."
      ]
    },
    {
      "cell_type": "code",
      "metadata": {
        "deletable": true,
        "editable": true,
        "id": "6t9NHBtMlt84"
      },
      "source": [
        "'''\n",
        "Extract maximum weights for given (word, weight) pairs\n",
        "Input: list of (word, weight)\n",
        "Output: (positive, negative)\n",
        "'''\n",
        "def extract_max(list_pairs):\n",
        "    pos_max = 1  #set default of the maximum positive strength as '1'\n",
        "    neg_max = -1  #set default of the maximum negative strength as '-1'\n",
        "\n",
        "    for p in list_pairs:\n",
        "        ## TODO : Iterate over the list of (word, weight) pairs, and extract the max of positive weights and min of negative weights.\n",
        "\n",
        "        w = p[1]\n",
        "        if w > 0 and w > pos_max:  #if the weight of the given word is positive and larger than previous maximum,\n",
        "            pos_max = w            #save it as new maximum positive strength.\n",
        "        elif w < 0 and w < neg_max: #if the weight of the given word is negative and smaller than previous maximum,\n",
        "            neg_max = w            #save it as new maximum negative strength.\n",
        "        \n",
        "\n",
        "    return (pos_max, neg_max)"
      ],
      "execution_count": 12,
      "outputs": []
    },
    {
      "cell_type": "markdown",
      "metadata": {
        "deletable": true,
        "editable": true,
        "id": "9F2z2XRglt87"
      },
      "source": [
        "### Step 5. Summing up\n",
        "앞서 구현한 함수들을 종합해 문장을 입력받아 sentiment strength를 출력 및 감성 평가를 수행하는 루틴을 구현합니다."
      ]
    },
    {
      "cell_type": "code",
      "metadata": {
        "deletable": true,
        "editable": true,
        "id": "DM3KSqmMlt88",
        "outputId": "23d0070e-c753-4af4-d49d-298c57112ea9",
        "colab": {
          "base_uri": "https://localhost:8080/"
        }
      },
      "source": [
        "sentence = 'Why the deafening silence?  It shows the duplicity of \"the allies\".'\n",
        "words = parse_input(sentence)\n",
        "\n",
        "# TODO : parse the emotion dictionary by parsing 'EmotionLookupTable.txt' on the dictionary folder.\n",
        "dict_emotion = parse_weight(dict_dir + 'EmotionLookupTable.txt')\n",
        "\n",
        "# TODO : perform a default weighting using the emotion dictionary parsed above.\n",
        "words_and_weights = weight_default(words, dict_emotion)\n",
        "\n",
        "for pair in words_and_weights :\n",
        "    print('(%s : %d)'%(pair[0],pair[1]))\n",
        "\n",
        "pos_max, neg_min = extract_max(words_and_weights)\n",
        "print('Max. of positive strength : %d, Min. of negative strength : %d'%(pos_max,neg_min))\n",
        "\n",
        "# TODO : make a final decision by comparing the absolute value of pos_max and neg_max\n",
        "if abs(pos_max) > abs(neg_min) :\n",
        "    print('Positive sentence.')\n",
        "elif abs(pos_max) < abs(neg_min) :\n",
        "    print('Negative sentence.')\n",
        "else :\n",
        "    print('Neutral sentence.')"
      ],
      "execution_count": 13,
      "outputs": [
        {
          "output_type": "stream",
          "text": [
            "(why : 0)\n",
            "(the : 0)\n",
            "(deafening : -2)\n",
            "(silence : 0)\n",
            "( : 0)\n",
            "(it : 0)\n",
            "(shows : 0)\n",
            "(the : 0)\n",
            "(duplicity : 0)\n",
            "(of : 0)\n",
            "(the : 0)\n",
            "(allies : 0)\n",
            "Max. of positive strength : 1, Min. of negative strength : -2\n",
            "Negative sentence.\n"
          ],
          "name": "stdout"
        }
      ]
    },
    {
      "cell_type": "markdown",
      "metadata": {
        "deletable": true,
        "editable": true,
        "id": "WfwwaXOrlt9A"
      },
      "source": [
        "### Step 6. Adding rules\n",
        "사전을 추가하여 감성분석이 좀 더 정밀하게 이루어질 수 있게 weight를 부여하는 룰을 추가하고자 합니다.\n",
        "\n",
        "#### 6-1. Boosting words\n",
        "뒤이은 단어의 의미를 강조하는 단어들로, 뒷 단어의 weighting을 강화하거나 약화시키는 룰이 미리 정의되어 있습니다.  \n",
        "weight_boost() 함수를 통해 이를 반영하고자 합니다. 앞서 weight_default()를 통해 나온 (word, weight)의 list를 입력받아 boosting 된 (word, weight)의 list를 반환해야 합니다."
      ]
    },
    {
      "cell_type": "code",
      "metadata": {
        "deletable": true,
        "editable": true,
        "id": "ktqMTq8jlt9A"
      },
      "source": [
        "'''\n",
        "Give boosting to another word\n",
        "Input: list of (word, weight)\n",
        "Output: list of (word, weight)\n",
        "'''\n",
        "def weight_boost(list_pairs, dic_boost):\n",
        "    l = []\n",
        "    boost = 0    #set default of the boost as '0'\n",
        "    for p in list_pairs:  #for each (word, weight) in the given list,\n",
        "        w = p[1]   # save its weight\n",
        "        if boost != 0:  #if the previous word is the boosting word,\n",
        "            # TODO : strengthen the weight of current word and add to the words list.\n",
        "            # Note that positive weights should be increased (+boost)\n",
        "            # and negative one should be decreased (-boost).\n",
        "            \n",
        "            if w > 0:   #strengthen each weight\n",
        "                w += boost\n",
        "            else:\n",
        "                w -= boost\n",
        "            boost = 0  #reset the boost as its default value\n",
        "            l.append((p[0], w))  #save the word and its changed weight into the output list.\n",
        "            \n",
        "        else:\n",
        "            l.append(p)  #if the previous word is not the boosting word, save the original (word, weight) into the output list.\n",
        "        if p[0] in dic_boost:  #check if the word is boosting word\n",
        "            boost = dic_boost[p[0]] #save the boosting weight\n",
        "    return l"
      ],
      "execution_count": 14,
      "outputs": []
    },
    {
      "cell_type": "markdown",
      "metadata": {
        "deletable": true,
        "editable": true,
        "id": "fjxKKTZjlt9D"
      },
      "source": [
        "앞서 boost dictionary를 읽어들였으므로, 이를 사용해 구현된 weight_boost가 잘 동작하는 지 확인합니다.  "
      ]
    },
    {
      "cell_type": "code",
      "metadata": {
        "deletable": true,
        "editable": true,
        "id": "Zl266Iqelt9D",
        "outputId": "20a1de9b-542e-4b08-abbe-dcbc7bf08edb",
        "colab": {
          "base_uri": "https://localhost:8080/"
        }
      },
      "source": [
        "sentence = 'i just want to know where you got that totally awesome wallpaper.'\n",
        "words = parse_input(sentence)\n",
        "words_and_weights = weight_default(words, dict_emotion)\n",
        "# You can see that how weight_boost() method works by commenting out following line\n",
        "words_and_weights = weight_boost(words_and_weights, dict_boost)\n",
        "for pair in words_and_weights :\n",
        "    print('(%s : %d)'%(pair[0],pair[1]))"
      ],
      "execution_count": 15,
      "outputs": [
        {
          "output_type": "stream",
          "text": [
            "(i : 0)\n",
            "(just : 0)\n",
            "(want : 1)\n",
            "(to : 0)\n",
            "(know : 0)\n",
            "(where : 0)\n",
            "(you : 0)\n",
            "(got : 0)\n",
            "(that : 0)\n",
            "(totally : 0)\n",
            "(awesome : 4)\n",
            "(wallpaper : 0)\n"
          ],
          "name": "stdout"
        }
      ]
    },
    {
      "cell_type": "markdown",
      "metadata": {
        "deletable": true,
        "editable": true,
        "id": "C1VqVpbqlt9G"
      },
      "source": [
        "#### 6-2. Negating words\n",
        "뒤이은 단어를 부정하는 의미를 추가하는 단어들로, 뒤이인 sentiment word의 strength를 반전시킵니다.  \n",
        "여기서는 뒤이은 단어가 positive strength를 가질 경우 -0.5를 곱하고, negative인 경우 0으로 만들도록 함수를 작성하시겠습니다.  "
      ]
    },
    {
      "cell_type": "code",
      "metadata": {
        "deletable": true,
        "editable": true,
        "id": "nKv7yIdllt9H"
      },
      "source": [
        "'''\n",
        "Negate the weight for a word\n",
        "Input: list of (word, weight)\n",
        "Output: list of (word, weight)\n",
        "'''\n",
        "def weight_negate(list_pairs, dic_negate):\n",
        "    l = []\n",
        "    negate = 0   #set default of the negation as '0'\n",
        "    for p in list_pairs:  #for each (word, weight) in the given list,\n",
        "        w = p[1]  #save its weight\n",
        "        if negate != 0: #if the previous word is the negating word, apply negating rules\n",
        "            # TODO : multiply -0.5 for positivie weight, set to 0 for negative weight\n",
        "            # Note that the weight with fractional component (e.g. +1.5) is not allowed, so you should round it.\n",
        "\n",
        "            if w > 0:    #for positive weight, we multiply -0.5\n",
        "                if w % 2 == 1:  #if the weight is odd number\n",
        "                    w = (w + 1) * -0.5\n",
        "                else:  #if the weight is even number\n",
        "                    w *= -0.5\n",
        "            else:\n",
        "                w = 0    #for negative weight, we set the weight as 0\n",
        "\n",
        "            negate = 0   #reset the negation as its default value\n",
        "            l.append((p[0], int(w)))  #save the word and its changed weight\n",
        "        else:\n",
        "            l.append(p)  #if the previous word is not the negating word, save the original (word, weight) into the output list.\n",
        "        if p[0] in dic_negate: #check if the word is negating word\n",
        "            negate = 1  #if it is, set the negation as '1' just to indicate this case(you can choose other integers except '0'.)\n",
        "    return l"
      ],
      "execution_count": 16,
      "outputs": []
    },
    {
      "cell_type": "markdown",
      "metadata": {
        "deletable": true,
        "editable": true,
        "id": "x3G7so8Slt9K"
      },
      "source": [
        "마찬가지로 weight_negate가 잘 작동하는 지 확인해봅니다."
      ]
    },
    {
      "cell_type": "code",
      "metadata": {
        "deletable": true,
        "editable": true,
        "id": "MJUgeeNIlt9K",
        "outputId": "537c612c-bbe3-4bc9-a02d-c5c276dbb93b",
        "colab": {
          "base_uri": "https://localhost:8080/"
        }
      },
      "source": [
        "sentence = 'I don\\'t like to say about such a boring thing.'\n",
        "words = parse_input(sentence)\n",
        "words_and_weights = weight_default(words, dict_emotion)\n",
        "# You can see that how weight_negate() method works by commenting out following line\n",
        "words_and_weights = weight_negate(words_and_weights, dict_negate)\n",
        "for pair in words_and_weights :\n",
        "    print('(%s : %d)'%(pair[0],pair[1]))"
      ],
      "execution_count": 17,
      "outputs": [
        {
          "output_type": "stream",
          "text": [
            "(i : 0)\n",
            "(don't : 0)\n",
            "(like : -1)\n",
            "(to : 0)\n",
            "(say : 0)\n",
            "(about : 0)\n",
            "(such : 0)\n",
            "(a : 0)\n",
            "(boring : -2)\n",
            "(thing : 0)\n"
          ],
          "name": "stdout"
        }
      ]
    },
    {
      "cell_type": "markdown",
      "metadata": {
        "deletable": true,
        "editable": true,
        "id": "flin64u6lt9N"
      },
      "source": [
        "### Step 7. Wrapping up\n",
        "지금까지 구현한 weight 부여/변형 규칙으로, 텍스트 파일이 주어졌을 때 감성분석을 수행하는 루틴을 작성해 봅니다.  \n",
        "프로그램 작성을 용이하게 하기 위해 감성분석 값을 반환하는 함수를 먼저 정의합니다."
      ]
    },
    {
      "cell_type": "code",
      "metadata": {
        "deletable": true,
        "editable": true,
        "id": "mdbwIO9Alt9N"
      },
      "source": [
        "'''\n",
        "Our target\n",
        "Input: Some sentence\n",
        "Output: Positive, Negative strength\n",
        "'''\n",
        "def senti(str):    #this function is to apply above functions to the given string(str).\n",
        "    \n",
        "    # Parsing Rules\n",
        "    w_emotion = parse_weight(dict_dir + 'EmotionLookupTable.txt')  \n",
        "    w_boost = parse_weight(dict_dir + 'BoosterWordList.txt')\n",
        "    w_negate = parse_negate(dict_dir + 'NegatingWordList.txt')\n",
        "    \n",
        "    # Parse Input\n",
        "    words = parse_input(str)\n",
        "    \n",
        "    # Weighting\n",
        "    default = weight_default(words, w_emotion)\n",
        "    boosted = weight_boost(default, w_boost)\n",
        "    negated = weight_negate(boosted, w_negate)\n",
        "    \n",
        "    return extract_max(negated)"
      ],
      "execution_count": 18,
      "outputs": []
    },
    {
      "cell_type": "markdown",
      "metadata": {
        "deletable": true,
        "editable": true,
        "id": "wX_RtNcNlt9Q"
      },
      "source": [
        "다음으로는 지정된 파일에서 문장들을 읽어들여서 감성 분석을 수행하고, 파일에 이미 기록된 결과값 (사람이 직접 평가한 점수)와 비교하는 프로그램을 작성합니다.  \n",
        "텍스트 파일을 읽을 때 주의사항은 첫 번째 라인은 건너뛰고 감성 분석을 수행하셔야 합니다."
      ]
    },
    {
      "cell_type": "code",
      "metadata": {
        "deletable": true,
        "editable": true,
        "id": "bcmAfZhGlt9Q"
      },
      "source": [
        "import codecs\n",
        "\n",
        "textFileName = data_dir + 'bbc1000.txt'\n",
        "scores = []\n",
        "\n",
        "with codecs.open(textFileName, 'r', encoding=\"utf-8\") as f :\n",
        "    # TODO : for each line on the text file, run the senti() function \n",
        "    # and print the human evaluated and calculated scores.\n",
        "    # Note that the 1st line of each text file contains column names for each field, so this should be ignored.\n",
        "    init = 0\n",
        "    fl =f.readlines()\n",
        "    for line in fl[1:]:\n",
        "      \n",
        "        s = line.split('\\t')\n",
        "        str = s[2]\n",
        "        result = senti(str)\n",
        "        scores.append([int(s[0]), -int(s[1]), result[0], result[1]])    "
      ],
      "execution_count": 19,
      "outputs": []
    },
    {
      "cell_type": "markdown",
      "metadata": {
        "deletable": true,
        "editable": true,
        "id": "F1D7Jq_Alt9T"
      },
      "source": [
        "텍스트 파일 전체에 대한 결과를 프린트할 경우 너무 많아질 수 있기 때문에 숫자를 입력받아 일정 문장만큼만 출력하도록 합니다."
      ]
    },
    {
      "cell_type": "code",
      "metadata": {
        "deletable": true,
        "editable": true,
        "id": "qaG8SWQflt9U",
        "outputId": "b8c7896f-8581-47f9-de0c-399f9f223fae",
        "colab": {
          "base_uri": "https://localhost:8080/"
        }
      },
      "source": [
        "num_to_print = 10\n",
        "\n",
        "print('(Human evaluated pos / neg), (our pos / neg)')\n",
        "for i in range(num_to_print) :\n",
        "    print('(%d/%d),(%d/%d)'%(scores[i][0],scores[i][1],scores[i][2],scores[i][3]))"
      ],
      "execution_count": 20,
      "outputs": [
        {
          "output_type": "stream",
          "text": [
            "(Human evaluated pos / neg), (our pos / neg)\n",
            "(1/-3),(3/-4)\n",
            "(1/-3),(2/-1)\n",
            "(1/-2),(1/-3)\n",
            "(2/-3),(3/-3)\n",
            "(1/-4),(1/-3)\n",
            "(1/-1),(1/-1)\n",
            "(1/-1),(1/-1)\n",
            "(1/-2),(1/-2)\n",
            "(2/-2),(2/-2)\n",
            "(1/-2),(2/-4)\n"
          ],
          "name": "stdout"
        }
      ]
    }
  ]
}